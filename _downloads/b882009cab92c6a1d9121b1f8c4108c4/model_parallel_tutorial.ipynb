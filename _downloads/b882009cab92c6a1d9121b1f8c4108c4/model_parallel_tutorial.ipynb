{
  "cells": [
    {
      "cell_type": "code",
      "execution_count": null,
      "metadata": {
        "collapsed": false
      },
      "outputs": [],
      "source": [
        "%matplotlib inline"
      ]
    },
    {
      "cell_type": "markdown",
      "metadata": {},
      "source": [
        "\nSingle-Machine Model Parallel Best Practices\n================================\n**Author**: `Shen Li <https://mrshenli.github.io/>`_\n\nModel parallel is widely-used in distributed training\ntechniques. Previous posts have explained how to use\n`DataParallel <https://pytorch.org/tutorials/beginner/blitz/data_parallel_tutorial.html>`_\nto train a neural network on multiple GPUs; this feature replicates the\nsame model to all GPUs, where each GPU consumes a different partition of the\ninput data. Although it can significantly accelerate the training process, it\ndoes not work for some use cases where the model is too large to fit into a\nsingle GPU. This post shows how to solve that problem by using **model parallel**,\nwhich, in contrast to ``DataParallel``, splits a single model onto different GPUs,\nrather than replicating the entire model on each GPU (to be concrete, say a model\n``m`` contains 10 layers: when using ``DataParallel``, each GPU will have a\nreplica of each of these 10 layers, whereas when using model parallel on two GPUs,\neach GPU could host 5 layers).\n\nThe high-level idea of model parallel is to place different sub-networks of a\nmodel onto different devices, and implement the ``forward`` method accordingly\nto move intermediate outputs across devices. As only part of a model operates\non any individual device, a set of devices can collectively serve a larger\nmodel. In this post, we will not try to construct huge models and squeeze them\ninto a limited number of GPUs. Instead, this post focuses on showing the idea\nof model parallel. It is up to the readers to apply the ideas to real-world\napplications.\n\n<div class=\"alert alert-info\"><h4>Note</h4><p>For distributed model parallel training where a model spans multiple\n    servers, please refer to\n    `Getting Started With Distributed RPC Framework <rpc_tutorial.html>`__\n    for examples and details.</p></div>\n\nBasic Usage\n-----------\n\n"
      ]
    },
    {
      "cell_type": "markdown",
      "metadata": {},
      "source": [
        "Let us start with a toy model that contains two linear layers. To run this\nmodel on two GPUs, simply put each linear layer on a different GPU, and move\ninputs and intermediate outputs to match the layer devices accordingly.\n\n\n"
      ]
    },
    {
      "cell_type": "markdown",
      "metadata": {},
      "source": [
        "Note that, the above ``ToyModel`` looks very similar to how one would\nimplement it on a single GPU, except the four ``to(device)`` calls which\nplace linear layers and tensors on proper devices. That is the only place in\nthe model that requires changes. The ``backward()`` and ``torch.optim`` will\nautomatically take care of gradients as if the model is on one GPU. You only\nneed to make sure that the labels are on the same device as the outputs when\ncalling the loss function.\n\n"
      ]
    },
    {
      "cell_type": "markdown",
      "metadata": {},
      "source": [
        "Apply Model Parallel to Existing Modules\n----------------------------------------\n\nIt is also possible to run an existing single-GPU module on multiple GPUs\nwith just a few lines of changes. The code below shows how to decompose\n``torchvision.models.resnet50()`` to two GPUs. The idea is to inherit from\nthe existing ``ResNet`` module, and split the layers to two GPUs during\nconstruction. Then, override the ``forward`` method to stitch two\nsub-networks by moving the intermediate outputs accordingly.\n\n"
      ]
    },
    {
      "cell_type": "markdown",
      "metadata": {},
      "source": [
        "The above implementation solves the problem for cases where the model is too\nlarge to fit into a single GPU. However, you might have already noticed that\nit will be slower than running it on a single GPU if your model fits. It is\nbecause, at any point in time, only one of the two GPUs are working, while\nthe other one is sitting there doing nothing. The performance further\ndeteriorates as the intermediate outputs need to be copied from ``cuda:0`` to\n``cuda:1`` between ``layer2`` and ``layer3``.\n\nLet us run an experiment to get a more quantitative view of the execution\ntime. In this experiment, we train ``ModelParallelResNet50`` and the existing\n``torchvision.models.resnet50()`` by running random inputs and labels through\nthem. After the training, the models will not produce any useful predictions,\nbut we can get a reasonable understanding of the execution times.\n\n"
      ]
    },
    {
      "cell_type": "markdown",
      "metadata": {},
      "source": [
        "The ``train(model)`` method above uses ``nn.MSELoss`` as the loss function,\nand ``optim.SGD`` as the optimizer. It mimics training on ``128 X 128``\nimages which are organized into 3 batches where each batch contains 120\nimages. Then, we use ``timeit`` to run the ``train(model)`` method 10 times\nand plot the execution times with standard deviations.\n\n"
      ]
    },
    {
      "cell_type": "markdown",
      "metadata": {},
      "source": [
        ".. figure:: /_static/img/model-parallel-images/mp_vs_rn.png\n   :alt:\n\nThe result shows that the execution time of model parallel implementation is\n``4.02/3.75-1=7%`` longer than the existing single-GPU implementation. So we\ncan conclude there is roughly 7% overhead in copying tensors back and forth\nacross the GPUs. There are rooms for improvements, as we know one of the two\nGPUs is sitting idle throughout the execution. One option is to further\ndivide each batch into a pipeline of splits, such that when one split reaches\nthe second sub-network, the following split can be fed into the first\nsub-network. In this way, two consecutive splits can run concurrently on two\nGPUs.\n\n"
      ]
    },
    {
      "cell_type": "markdown",
      "metadata": {},
      "source": [
        "Speed Up by Pipelining Inputs\n-----------------------------\n\nIn the following experiments, we further divide each 120-image batch into\n20-image splits. As PyTorch launches CUDA operations asynchronously, the\nimplementation does not need to spawn multiple threads to achieve\nconcurrency.\n\n"
      ]
    },
    {
      "cell_type": "markdown",
      "metadata": {},
      "source": [
        "Please note, device-to-device tensor copy operations are synchronized on\ncurrent streams on the source and the destination devices. If you create\nmultiple streams, you have to make sure that copy operations are properly\nsynchronized. Writing the source tensor or reading/writing the destination\ntensor before finishing the copy operation can lead to undefined behavior.\nThe above implementation only uses default streams on both source and\ndestination devices, hence it is not necessary to enforce additional\nsynchronizations.\n\n.. figure:: /_static/img/model-parallel-images/mp_vs_rn_vs_pp.png\n   :alt:\n\nThe experiment result shows that, pipelining inputs to model parallel\nResNet50 speeds up the training process by roughly ``3.75/2.51-1=49%``. It is\nstill quite far away from the ideal 100% speedup. As we have introduced a new\nparameter ``split_sizes`` in our pipeline parallel implementation, it is\nunclear how the new parameter affects the overall training time. Intuitively\nspeaking, using small ``split_size`` leads to many tiny CUDA kernel launch,\nwhile using large ``split_size`` results to relatively long idle times during\nthe first and last splits. Neither are optimal. There might be an optimal\n``split_size`` configuration for this specific experiment. Let us try to find\nit by running experiments using several different ``split_size`` values.\n\n"
      ]
    },
    {
      "cell_type": "markdown",
      "metadata": {},
      "source": [
        ".. figure:: /_static/img/model-parallel-images/split_size_tradeoff.png\n   :alt:\n\nThe result shows that setting ``split_size`` to 12 achieves the fastest\ntraining speed, which leads to ``3.75/2.43-1=54%`` speedup. There are\nstill opportunities to further accelerate the training process. For example,\nall operations on ``cuda:0`` is placed on its default stream. It means that\ncomputations on the next split cannot overlap with the copy operation of the\nprev split. However, as prev and next splits are different tensors, there is\nno problem to overlap one's computation with the other one's copy. The\nimplementation need to use multiple streams on both GPUs, and different\nsub-network structures require different stream management strategies. As no\ngeneral multi-stream solution works for all model parallel use cases, we will\nnot discuss it in this tutorial.\n\n**Note:**\n\nThis post shows several performance measurements. You might see different\nnumbers when running the same code on your own machine, because the result\ndepends on the underlying hardware and software. To get the best performance\nfor your environment, a proper approach is to first generate the curve to\nfigure out the best split size, and then use that split size to pipeline\ninputs.\n\n\n"
      ]
    },
    {
      "cell_type": "code",
      "execution_count": null,
      "metadata": {
        "collapsed": false
      },
      "outputs": [],
      "source": [
        "# %%%%%%RUNNABLE_CODE_REMOVED%%%%%%"
      ]
    }
  ],
  "metadata": {
    "kernelspec": {
      "display_name": "Python 3",
      "language": "python",
      "name": "python3"
    },
    "language_info": {
      "codemirror_mode": {
        "name": "ipython",
        "version": 3
      },
      "file_extension": ".py",
      "mimetype": "text/x-python",
      "name": "python",
      "nbconvert_exporter": "python",
      "pygments_lexer": "ipython3",
      "version": "3.6.13"
    }
  },
  "nbformat": 4,
  "nbformat_minor": 0
}